{
 "cells": [
  {
   "cell_type": "markdown",
   "metadata": {},
   "source": [
    "# Measuring Synaptic Strength\n",
    "\n",
    "In this notebook we use the [Allen Institute synaptic physiology dataset](https://portal.brain-map.org/explore/connectivity/synaptic-physiology) to measure the strength of synaptic connections and the relationship to cell subclass.\n",
    "\n",
    "For an introduction to the Jupyter Notebook interface interface, try [Codeacademy: How To Use Jupyter Notebooks]( https://www.codecademy.com/articles/how-to-use-jupyter-notebooks) or [Jupyter Notebook Quick Start Guide](https://jupyter-notebook-beginner-guide.readthedocs.io/en/latest/what_is_jupyter.html).\n"
   ]
  },
  {
   "cell_type": "code",
   "execution_count": 1,
   "metadata": {},
   "outputs": [],
   "source": [
    "import numpy as np\n",
    "from aisynphys.database import SynphysDatabase\n",
    "from aisynphys.cell_class import CellClass"
   ]
  },
  {
   "cell_type": "code",
   "execution_count": 2,
   "metadata": {},
   "outputs": [],
   "source": [
    "# Download and cache the sqlite file for the requested database\n",
    "#   (for available versions, see SynphysDatabase.list_versions)\n",
    "db = SynphysDatabase.load_version('synphys_r1.0_2019-08-29_small.sqlite')"
   ]
  },
  {
   "cell_type": "markdown",
   "metadata": {},
   "source": [
    "We are going to compare the strength of excitatory connectivity onto the three inhibitory cell subclassess -- Pvalb, Sst, and Vip.\n",
    "\n",
    "Begin by defining these subclasses:"
   ]
  },
  {
   "cell_type": "code",
   "execution_count": 3,
   "metadata": {},
   "outputs": [],
   "source": [
    "post_classes = {\n",
    "    'pvalb': CellClass(cre_type='pvalb'),\n",
    "    'sst': CellClass(cre_type='sst'),\n",
    "    'vip': CellClass(cre_type='vip'),\n",
    "}"
   ]
  },
  {
   "cell_type": "markdown",
   "metadata": {},
   "source": [
    "Query the database to get all excitatory synapses with a specific postsynaptic cre type. We also filter here for specific project names \"mouse V1 coarse matrix\" and \"mouse V1 pre production\" in order to exclude other experiment types."
   ]
  },
  {
   "cell_type": "code",
   "execution_count": 4,
   "metadata": {},
   "outputs": [
    {
     "name": "stdout",
     "output_type": "stream",
     "text": [
      "pvalb: 90 synapses\n",
      "sst: 71 synapses\n",
      "vip: 24 synapses\n"
     ]
    }
   ],
   "source": [
    "# query once for each postsynaptic type, building up a Pandas dataframe\n",
    "\n",
    "pairs = None\n",
    "for name, post_class in post_classes.items():\n",
    "    pair_query = db.pair_query(\n",
    "        project_name=[\"mouse V1 coarse matrix\", \"mouse V1 pre production\"],\n",
    "        post_class=post_class,\n",
    "        synapse=True,\n",
    "        synapse_type='ex',\n",
    "    )\n",
    "    pair_query = pair_query.add_columns(\n",
    "        db.Synapse.psp_amplitude,\n",
    "        db.Dynamics.pulse_amp_90th_percentile,\n",
    "    )\n",
    "    df = pair_query.dataframe()\n",
    "    df['post_class'] = name\n",
    "    if pairs is None:\n",
    "        pairs = df\n",
    "    else:\n",
    "        pairs = pairs.append(df)\n",
    "    print(\"%s: %d synapses\" % (name, len(df)))"
   ]
  },
  {
   "cell_type": "code",
   "execution_count": 5,
   "metadata": {},
   "outputs": [
    {
     "data": {
      "text/html": [
       "<div>\n",
       "<style scoped>\n",
       "    .dataframe tbody tr th:only-of-type {\n",
       "        vertical-align: middle;\n",
       "    }\n",
       "\n",
       "    .dataframe tbody tr th {\n",
       "        vertical-align: top;\n",
       "    }\n",
       "\n",
       "    .dataframe thead th {\n",
       "        text-align: right;\n",
       "    }\n",
       "</style>\n",
       "<table border=\"1\" class=\"dataframe\">\n",
       "  <thead>\n",
       "    <tr style=\"text-align: right;\">\n",
       "      <th></th>\n",
       "      <th>id</th>\n",
       "      <th>experiment_id</th>\n",
       "      <th>pre_cell_id</th>\n",
       "      <th>post_cell_id</th>\n",
       "      <th>has_synapse</th>\n",
       "      <th>has_electrical</th>\n",
       "      <th>crosstalk_artifact</th>\n",
       "      <th>n_ex_test_spikes</th>\n",
       "      <th>n_in_test_spikes</th>\n",
       "      <th>distance</th>\n",
       "      <th>meta</th>\n",
       "      <th>psp_amplitude</th>\n",
       "      <th>pulse_amp_90th_percentile</th>\n",
       "      <th>post_class</th>\n",
       "    </tr>\n",
       "  </thead>\n",
       "  <tbody>\n",
       "    <tr>\n",
       "      <th>0</th>\n",
       "      <td>43122</td>\n",
       "      <td>1235</td>\n",
       "      <td>7375</td>\n",
       "      <td>7370</td>\n",
       "      <td>True</td>\n",
       "      <td>False</td>\n",
       "      <td>None</td>\n",
       "      <td>12</td>\n",
       "      <td>0</td>\n",
       "      <td>0.000058</td>\n",
       "      <td>None</td>\n",
       "      <td>NaN</td>\n",
       "      <td>NaN</td>\n",
       "      <td>pvalb</td>\n",
       "    </tr>\n",
       "    <tr>\n",
       "      <th>1</th>\n",
       "      <td>44106</td>\n",
       "      <td>1264</td>\n",
       "      <td>7546</td>\n",
       "      <td>7550</td>\n",
       "      <td>True</td>\n",
       "      <td>False</td>\n",
       "      <td>None</td>\n",
       "      <td>484</td>\n",
       "      <td>60</td>\n",
       "      <td>0.000052</td>\n",
       "      <td>None</td>\n",
       "      <td>0.000436</td>\n",
       "      <td>0.000848</td>\n",
       "      <td>pvalb</td>\n",
       "    </tr>\n",
       "    <tr>\n",
       "      <th>2</th>\n",
       "      <td>44111</td>\n",
       "      <td>1264</td>\n",
       "      <td>7547</td>\n",
       "      <td>7550</td>\n",
       "      <td>True</td>\n",
       "      <td>False</td>\n",
       "      <td>None</td>\n",
       "      <td>196</td>\n",
       "      <td>60</td>\n",
       "      <td>0.000085</td>\n",
       "      <td>None</td>\n",
       "      <td>NaN</td>\n",
       "      <td>NaN</td>\n",
       "      <td>pvalb</td>\n",
       "    </tr>\n",
       "    <tr>\n",
       "      <th>3</th>\n",
       "      <td>44116</td>\n",
       "      <td>1264</td>\n",
       "      <td>7548</td>\n",
       "      <td>7550</td>\n",
       "      <td>True</td>\n",
       "      <td>False</td>\n",
       "      <td>None</td>\n",
       "      <td>648</td>\n",
       "      <td>60</td>\n",
       "      <td>0.000110</td>\n",
       "      <td>None</td>\n",
       "      <td>NaN</td>\n",
       "      <td>NaN</td>\n",
       "      <td>pvalb</td>\n",
       "    </tr>\n",
       "    <tr>\n",
       "      <th>4</th>\n",
       "      <td>44412</td>\n",
       "      <td>1279</td>\n",
       "      <td>7617</td>\n",
       "      <td>7621</td>\n",
       "      <td>True</td>\n",
       "      <td>False</td>\n",
       "      <td>None</td>\n",
       "      <td>480</td>\n",
       "      <td>480</td>\n",
       "      <td>0.000226</td>\n",
       "      <td>None</td>\n",
       "      <td>0.000101</td>\n",
       "      <td>0.000864</td>\n",
       "      <td>pvalb</td>\n",
       "    </tr>\n",
       "  </tbody>\n",
       "</table>\n",
       "</div>"
      ],
      "text/plain": [
       "      id  experiment_id  pre_cell_id  post_cell_id  has_synapse  \\\n",
       "0  43122           1235         7375          7370         True   \n",
       "1  44106           1264         7546          7550         True   \n",
       "2  44111           1264         7547          7550         True   \n",
       "3  44116           1264         7548          7550         True   \n",
       "4  44412           1279         7617          7621         True   \n",
       "\n",
       "   has_electrical crosstalk_artifact  n_ex_test_spikes  n_in_test_spikes  \\\n",
       "0           False               None                12                 0   \n",
       "1           False               None               484                60   \n",
       "2           False               None               196                60   \n",
       "3           False               None               648                60   \n",
       "4           False               None               480               480   \n",
       "\n",
       "   distance  meta  psp_amplitude  pulse_amp_90th_percentile post_class  \n",
       "0  0.000058  None            NaN                        NaN      pvalb  \n",
       "1  0.000052  None       0.000436                   0.000848      pvalb  \n",
       "2  0.000085  None            NaN                        NaN      pvalb  \n",
       "3  0.000110  None            NaN                        NaN      pvalb  \n",
       "4  0.000226  None       0.000101                   0.000864      pvalb  "
      ]
     },
     "execution_count": 5,
     "metadata": {},
     "output_type": "execute_result"
    }
   ],
   "source": [
    "# we now have all synapses loaded into one dataframe:\n",
    "pairs.head()"
   ]
  },
  {
   "cell_type": "code",
   "execution_count": 6,
   "metadata": {},
   "outputs": [
    {
     "name": "stdout",
     "output_type": "stream",
     "text": [
      "Average PSP amplitude for pyr->pvalb: 0.54 mV\n",
      "Average PSP amplitude for pyr->sst: 0.28 mV\n",
      "Average PSP amplitude for pyr->vip: 0.51 mV\n"
     ]
    }
   ],
   "source": [
    "avg_psp_amp = pairs.groupby('post_class').psp_amplitude.mean()\n",
    "for name in post_classes:\n",
    "    print(\"Average PSP amplitude for pyr->%s: %0.2f mV\" % (name, avg_psp_amp[name]*1e3))"
   ]
  },
  {
   "cell_type": "markdown",
   "metadata": {},
   "source": [
    "The strength of signaling for any synapse changes dynamically based on its prior history and stochastically with each presynaptic spike. Because of this dynamic nature, there is not always an obvious way to describe the \"strength\" of a synapse as a single value. Above, we show the _resting state_ PSP amplitude, which is averaged over PSPs that were evoked after a period of several seconds of quiescence. \n",
    "\n",
    "It appears from this metric that Sst cells receive much weaker excitation than Pvalb and Vip cells. Let's look closer at the distributions beind those values:"
   ]
  },
  {
   "cell_type": "code",
   "execution_count": 7,
   "metadata": {},
   "outputs": [
    {
     "data": {
      "text/plain": [
       "<matplotlib.axes._subplots.AxesSubplot at 0x7f43a0a53278>"
      ]
     },
     "execution_count": 7,
     "metadata": {},
     "output_type": "execute_result"
    },
    {
     "data": {
      "image/png": "[encoded data removed]",
      "text/plain": [
       "<Figure size 576x216 with 1 Axes>"
      ]
     },
     "metadata": {
      "needs_background": "light"
     },
     "output_type": "display_data"
    }
   ],
   "source": [
    "import matplotlib.pyplot as plt\n",
    "import seaborn as sns\n",
    "%matplotlib inline\n",
    "\n",
    "fig,ax = plt.subplots(figsize=(8, 3))\n",
    "ax.set_yscale('log')\n",
    "ax.set_ylim(5e-6, 5e-3)\n",
    "sns.swarmplot(x=\"post_class\", y=\"psp_amplitude\", data=pairs, ax=ax, size=10)"
   ]
  },
  {
   "cell_type": "markdown",
   "metadata": {},
   "source": [
    "The distributions above seem to confirm the initial suggestion that Sst cells receive weaker excitation (note the semilog scale). However, excitatory connections onto Sst cells are also known to be strongly _facilitating_, which means that we expect these connections to appear weakest in the quiescent state measured above. \n",
    "\n",
    "Another way to measure synaptic strength is to estimate the maximum PSP amplitude _regardless of prior activity_. We use the 90th percentile PSP amplitude for this purpose, and below it appears that the 3 subclasses have much more comparable levels of excitation under this metric:"
   ]
  },
  {
   "cell_type": "code",
   "execution_count": 8,
   "metadata": {},
   "outputs": [
    {
     "data": {
      "text/plain": [
       "<matplotlib.axes._subplots.AxesSubplot at 0x7f43a06422e8>"
      ]
     },
     "execution_count": 8,
     "metadata": {},
     "output_type": "execute_result"
    },
    {
     "data": {
      "image/png": "[encoded data removed]",
      "text/plain": [
       "<Figure size 576x216 with 1 Axes>"
      ]
     },
     "metadata": {
      "needs_background": "light"
     },
     "output_type": "display_data"
    }
   ],
   "source": [
    "fig,ax = plt.subplots(figsize=(8, 3))\n",
    "ax.set_yscale('log')\n",
    "ax.set_ylim(300e-6, 10e-3)\n",
    "sns.swarmplot(x=\"post_class\", y=\"pulse_amp_90th_percentile\", data=pairs, ax=ax, size=10)"
   ]
  },
  {
   "cell_type": "code",
   "execution_count": null,
   "metadata": {},
   "outputs": [],
   "source": []
  }
 ],
 "metadata": {
  "kernelspec": {
   "display_name": "Python 3",
   "language": "python",
   "name": "python3"
  },
  "language_info": {
   "codemirror_mode": {
    "name": "ipython",
    "version": 3
   },
   "file_extension": ".py",
   "mimetype": "text/x-python",
   "name": "python",
   "nbconvert_exporter": "python",
   "pygments_lexer": "ipython3",
   "version": "3.7.2"
  }
 },
 "nbformat": 4,
 "nbformat_minor": 2
}
