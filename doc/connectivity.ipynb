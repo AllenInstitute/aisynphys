{
 "cells": [
  {
   "cell_type": "code",
   "execution_count": null,
   "metadata": {},
   "outputs": [],
   "source": [
    "import numpy as np\n",
    "from multipatch_analysis.database import SynphysDatabase\n",
    "from multipatch_analysis.cell_class import CellClass, classify_cells, classify_pairs\n",
    "from multipatch_analysis.connectivity import measure_connectivity"
   ]
  },
  {
   "cell_type": "code",
   "execution_count": null,
   "metadata": {},
   "outputs": [],
   "source": [
    "db = SynphysDatabase(ro_host='sqlite:///', rw_host=None, db_name='synphys_current_small.sqlite')"
   ]
  },
  {
   "cell_type": "markdown",
   "metadata": {},
   "source": [
    "Define criteria for all cell classes that we want to compare:"
   ]
  },
  {
   "cell_type": "code",
   "execution_count": null,
   "metadata": {},
   "outputs": [],
   "source": [
    "cell_class_criteria = {\n",
    "    'l23pyr': {'dendrite_type': 'spiny',       'cortical_layer': '2/3', 'display_names': ('L2/3', 'Pyr\\nspiny')},\n",
    "    'l23pv':  {'cre_type': 'pvalb',            'cortical_layer': '2/3', 'display_names': ('L2/3', 'Pv')},\n",
    "    'l23sst': {'cre_type': 'sst',              'cortical_layer': '2/3', 'display_names': ('L2/3', 'Sst')},\n",
    "    'l23vip': {'cre_type': 'vip',              'cortical_layer': '2/3', 'display_names': ('L2/3', 'Vip')},\n",
    "    'l4pyr':  {'cre_type': 'nr5a1',            'cortical_layer': '4',   'display_names': ('L4', 'Pyr\\n nr5a1')},\n",
    "    'l4pv':   {'cre_type': 'pvalb',            'cortical_layer': '4',   'display_names': ('L4', 'Pv')},\n",
    "    'l4sst':  {'cre_type': 'sst',              'cortical_layer': '4',   'display_names': ('L4', 'Sst')},\n",
    "    'l4vip':  {'cre_type': 'vip',              'cortical_layer': '4',   'display_names': ('L4', 'Vip')},\n",
    "    'l5et':   {'cre_type': ('sim1', 'fam84b'), 'cortical_layer': '5',   'display_names': ('L5', 'Pyr ET\\nsim1, fam84b')},\n",
    "    'l5it':   {'cre_type': 'tlx3',             'cortical_layer': '5',   'display_names': ('L5', 'Pyr IT\\ntlx3')}, \n",
    "    'l5pv':   {'cre_type': 'pvalb',            'cortical_layer': '5',   'display_names': ('L5', 'Pv')},\n",
    "    'l5sst':  {'cre_type': 'sst',              'cortical_layer': '5',   'display_names': ('L5', 'Sst')},\n",
    "    'l5vip':  {'cre_type': 'vip',              'cortical_layer': '5',   'display_names': ('L5', 'Vip')},\n",
    "    'l6pyr':  {'cre_type': 'ntsr1',            'cortical_layer': ('6a','6b'),   'display_names': ('L6', 'Pyr\\nntsr1')},\n",
    "    'l6pv':   {'cre_type': 'pvalb',            'cortical_layer': ('6a','6b'),   'display_names': ('L6', 'Pv')},\n",
    "    'l6sst':  {'cre_type': 'sst',              'cortical_layer': ('6a','6b'),   'display_names': ('L6', 'Sst')},\n",
    "    'l6vip':  {'cre_type': 'vip',              'cortical_layer': ('6a','6b'),   'display_names': ('L6', 'Vip')},\n",
    "}"
   ]
  },
  {
   "cell_type": "markdown",
   "metadata": {},
   "source": [
    "Create a `CellClass` object to represent each cell class described above:"
   ]
  },
  {
   "cell_type": "code",
   "execution_count": null,
   "metadata": {},
   "outputs": [],
   "source": [
    "cell_classes = {name:CellClass(**criteria) for name,criteria in cell_class_criteria.items()}"
   ]
  },
  {
   "cell_type": "markdown",
   "metadata": {},
   "source": [
    "Get a list of all cell pairs in the database from mouse matrix projects:"
   ]
  },
  {
   "cell_type": "code",
   "execution_count": null,
   "metadata": {},
   "outputs": [],
   "source": [
    "pairs = db.pair_query(project_name=[\"mouse V1 coarse matrix\", \"mouse V1 pre-production\"]).all()\n",
    "len(pairs)"
   ]
  },
  {
   "cell_type": "markdown",
   "metadata": {},
   "source": [
    "Group our selected pairs by pre- and postsynaptic cell type, then measure the probability of connectivity for each group"
   ]
  },
  {
   "cell_type": "code",
   "execution_count": null,
   "metadata": {},
   "outputs": [],
   "source": [
    "# Group all cells by selected classes\n",
    "cell_groups = classify_cells(cell_classes.values(), pairs=pairs)\n",
    "\n",
    "# Group pairs into (pre_class, post_class) groups\n",
    "pair_groups = classify_pairs(pairs, cell_groups)\n",
    "\n",
    "# analyze matrix elements\n",
    "results = measure_connectivity(pair_groups)"
   ]
  },
  {
   "cell_type": "markdown",
   "metadata": {},
   "source": [
    "At this point we have all data loaded and connection probabilities have been computed. For each combination of (presynaptic_class, postsynaptic_class), we have a result dictionary that includes the number of putative connections probed, the number of synapses found, and the connection probability with 95% confidence intervals:"
   ]
  },
  {
   "cell_type": "code",
   "execution_count": null,
   "metadata": {},
   "outputs": [],
   "source": [
    "# pick two arbitrary cell classes to display results from\n",
    "pre_class = cell_classes['l23sst']\n",
    "post_class = cell_classes['l23vip']\n",
    "print(\"Connectivity results for %s => %s\" % (pre_class, post_class))\n",
    "results[pre_class, post_class]"
   ]
  },
  {
   "cell_type": "markdown",
   "metadata": {},
   "source": [
    "The results computed above must now be transformed into 2D arrays of colors and labels before being displayed as a heat map"
   ]
  },
  {
   "cell_type": "code",
   "execution_count": null,
   "metadata": {},
   "outputs": [],
   "source": [
    "import matplotlib.colors, matplotlib.cm\n",
    "\n",
    "# convert dictionary of results to a 2d array of connection probabilities\n",
    "cprob = np.zeros((len(cell_classes),)*2)\n",
    "cprob_alpha = cprob.copy()\n",
    "cprob_str = np.zeros((len(cell_classes),)*2, dtype=object)\n",
    "\n",
    "for i,pre_class in enumerate(cell_classes.values()):\n",
    "    for j,post_class in enumerate(cell_classes.values()):\n",
    "        result = results[pre_class, post_class]\n",
    "        cp, cp_lower_ci, cp_upper_ci = result['connection_probability']\n",
    "        cprob[i,j] = cp\n",
    "        cprob_str[i,j] = \"\" if result['n_probed'] == 0 else \"%d/%d\" % (result['n_connected'], result['n_probed'])\n",
    "        cprob_alpha[i,j] = 1.0 - 2.0 * (cp_upper_ci - cp_lower_ci)\n",
    "\n",
    "# convert classes to a list of strings\n",
    "class_names = [str(cls) for cls in cell_classes.values()]\n",
    "\n",
    "# map connection probability to RGB colors\n",
    "norm = matplotlib.colors.LogNorm(vmin=0.01, vmax=1.0, clip=True)\n",
    "cmap = matplotlib.cm.get_cmap('plasma')\n",
    "mapper = matplotlib.cm.ScalarMappable(norm=norm, cmap=cmap)\n",
    "cprob_rgba = mapper.to_rgba(np.clip(cprob, 0.01, 1.0))\n",
    "\n",
    "# apply alpha based on confidence intervals\n",
    "cprob_rgba[:, :, 3] = np.clip(cprob_alpha, 0, 1)"
   ]
  },
  {
   "cell_type": "code",
   "execution_count": null,
   "metadata": {
    "scrolled": false
   },
   "outputs": [],
   "source": [
    "import matplotlib.pyplot as plt\n",
    "from multipatch_analysis.ui.notebook import heatmap, annotate_heatmap\n",
    "%matplotlib inline\n",
    "\n",
    "fig, ax = plt.subplots(figsize=(15, 15))\n",
    "\n",
    "im, cbar = heatmap(cprob_rgba, class_names, class_names, ax=ax, \n",
    "    ax_labels=('postsynaptic', 'presynaptic'),\n",
    "    bg_color=(0.7, 0.7, 0.7),\n",
    "    cmap=cmap, norm=norm, \n",
    "    cbarlabel=\"Connection probability\", \n",
    "    cbar_kw={'shrink':0.5})\n",
    "\n",
    "labels = annotate_heatmap(im, cprob_str, data=cprob)"
   ]
  },
  {
   "cell_type": "code",
   "execution_count": null,
   "metadata": {},
   "outputs": [],
   "source": [
    "fig.savefig('mouse_connectivity_matrix.svg', format='svg')"
   ]
  },
  {
   "cell_type": "code",
   "execution_count": null,
   "metadata": {},
   "outputs": [],
   "source": []
  },
  {
   "cell_type": "code",
   "execution_count": null,
   "metadata": {},
   "outputs": [],
   "source": []
  },
  {
   "cell_type": "code",
   "execution_count": null,
   "metadata": {},
   "outputs": [],
   "source": []
  }
 ],
 "metadata": {
  "kernelspec": {
   "display_name": "Python 3",
   "language": "python",
   "name": "python3"
  },
  "language_info": {
   "codemirror_mode": {
    "name": "ipython",
    "version": 3
   },
   "file_extension": ".py",
   "mimetype": "text/x-python",
   "name": "python",
   "nbconvert_exporter": "python",
   "pygments_lexer": "ipython3",
   "version": "3.7.2"
  }
 },
 "nbformat": 4,
 "nbformat_minor": 2
}
