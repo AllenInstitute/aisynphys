{
 "cells": [
  {
   "cell_type": "code",
   "execution_count": 1,
   "metadata": {},
   "outputs": [],
   "source": [
    "import numpy as np\n",
    "from multipatch_analysis.database import SynphysDatabase\n",
    "from multipatch_analysis.cell_class import CellClass, classify_pairs"
   ]
  },
  {
   "cell_type": "code",
   "execution_count": 2,
   "metadata": {},
   "outputs": [],
   "source": [
    "db = SynphysDatabase(ro_host='sqlite:///', rw_host=None, db_name='/home/luke/public/synphys_current_small.sqlite')"
   ]
  },
  {
   "cell_type": "markdown",
   "metadata": {},
   "source": [
    "Define criteria for all cell classes that we want to compare:"
   ]
  },
  {
   "cell_type": "code",
   "execution_count": 3,
   "metadata": {},
   "outputs": [],
   "source": [
    "cell_classes = [CellClass(**criteria) for criteria in [\n",
    "    # {'cre_type': 'unknown', 'target_layer': '2/3','cortical_layer': '2/3'},\n",
    "    {'dendrite_type': 'spiny', 'target_layer': '2/3', 'cortical_layer': '2/3','display_names': ('L2/3', 'Pyr\\nspiny')},\n",
    "    {'cre_type': 'pvalb', 'target_layer': '2/3', 'cortical_layer': '2/3', 'display_names': ('L2/3', 'Pv')},\n",
    "    {'cre_type': 'sst', 'target_layer': '2/3', 'cortical_layer': '2/3', 'display_names': ('L2/3', 'Sst')},\n",
    "    {'cre_type': 'vip', 'target_layer': '2/3', 'cortical_layer': '2/3', 'display_names': ('L2/3', 'Vip')},\n",
    "   # {'cre_type': 'rorb', 'target_layer': '4'},\n",
    "    {'cre_type': 'nr5a1', 'target_layer': '4', 'cortical_layer': '4', 'display_names': ('L4', 'Pyr\\n nr5a1')},\n",
    "    {'cre_type': 'pvalb', 'target_layer': '4', 'cortical_layer': '4', 'display_names': ('L4', 'Pv')},\n",
    "    {'cre_type': 'sst', 'target_layer': '4', 'cortical_layer': '4', 'display_names': ('L4', 'Sst')},\n",
    "    {'cre_type': 'vip', 'target_layer': '4', 'cortical_layer': '4', 'display_names': ('L4', 'Vip')},\n",
    "    {'cre_type': ('sim1', 'fam84b'), 'target_layer': '5', 'cortical_layer': '5', 'display_names': ('L5', 'Pyr ET\\nsim1, fam84b')},\n",
    "    {'cre_type': 'tlx3', 'target_layer': '5', 'display_names': ('L5', 'Pyr IT\\ntlx3'), 'cortical_layer': '5'},\n",
    "    {'cre_type': 'pvalb', 'target_layer': '5', 'cortical_layer': '5', 'display_names': ('L5', 'Pv')},\n",
    "    {'cre_type': 'sst', 'target_layer': '5', 'cortical_layer': '5', 'display_names': ('L5', 'Sst')},\n",
    "    {'cre_type': 'vip', 'target_layer': '5', 'cortical_layer': '5', 'display_names': ('L5', 'Vip')},\n",
    "    {'cre_type': 'ntsr1', 'target_layer': '6', 'cortical_layer': ('6a', '6b'), 'display_names': ('L6', 'Pyr\\nntsr1')},\n",
    "    {'cre_type': 'pvalb', 'target_layer': '6', 'cortical_layer': ('6a', '6b'), 'display_names': ('L6', 'Pv')},\n",
    "    {'cre_type': 'sst', 'target_layer': '6', 'cortical_layer': ('6a', '6b'), 'display_names': ('L6', 'Sst')},\n",
    "    {'cre_type': 'vip', 'target_layer': '6', 'cortical_layer': ('6a', '6b'), 'display_names': ('L6', 'Vip')},\n",
    "]]\n"
   ]
  },
  {
   "cell_type": "markdown",
   "metadata": {},
   "source": [
    "Get a list of all cell pairs in the database that match these cell type criteria. We also filter here for a specific project name \"mouse V1 coarse matrix\" in order to exclude Other experiment types."
   ]
  },
  {
   "cell_type": "code",
   "execution_count": 4,
   "metadata": {},
   "outputs": [
    {
     "data": {
      "text/plain": [
       "436"
      ]
     },
     "execution_count": 4,
     "metadata": {},
     "output_type": "execute_result"
    }
   ],
   "source": [
    "pair_query = db.pair_query(project_name=\"mouse V1 coarse matrix\", pre_class=pre_class, post_class=post_class)\n",
    "pairs = pair_query.all()\n",
    "len(pairs)"
   ]
  }
 ],
 "metadata": {
  "kernelspec": {
   "display_name": "Python 3",
   "language": "python",
   "name": "python3"
  },
  "language_info": {
   "codemirror_mode": {
    "name": "ipython",
    "version": 3
   },
   "file_extension": ".py",
   "mimetype": "text/x-python",
   "name": "python",
   "nbconvert_exporter": "python",
   "pygments_lexer": "ipython3",
   "version": "3.7.2"
  }
 },
 "nbformat": 4,
 "nbformat_minor": 2
}
