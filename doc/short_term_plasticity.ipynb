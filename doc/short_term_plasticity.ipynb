{
 "cells": [
  {
   "cell_type": "markdown",
   "metadata": {},
   "source": [
    "# Measuring Synaptic Short Term Plasticity\n",
    "\n",
    "In this notebook we use the [Allen Institute synaptic physiology dataset](https://portal.brain-map.org/explore/connectivity/synaptic-physiology) to measure short term plasticity and its relationship to cell subclass.\n",
    "\n",
    "For an introduction to the Jupyter Notebook interface interface, try [Codeacademy: How To Use Jupyter Notebooks]( https://www.codecademy.com/articles/how-to-use-jupyter-notebooks) or [Jupyter Notebook Quick Start Guide](https://jupyter-notebook-beginner-guide.readthedocs.io/en/latest/what_is_jupyter.html).\n"
   ]
  },
  {
   "cell_type": "code",
   "execution_count": 1,
   "metadata": {},
   "outputs": [
    {
     "name": "stderr",
     "output_type": "stream",
     "text": [
      "c:\\users\\stephanies\\appdata\\local\\continuum\\miniconda3\\envs\\py3\\lib\\site-packages\\statsmodels\\tools\\_testing.py:19: FutureWarning: pandas.util.testing is deprecated. Use the functions in the public API at pandas.testing instead.\n",
      "  import pandas.util.testing as tm\n"
     ]
    }
   ],
   "source": [
    "import numpy as np\n",
    "import scipy.stats\n",
    "from aisynphys.database import SynphysDatabase\n",
    "from aisynphys.cell_class import CellClass, classify_cells, classify_pairs\n",
    "from aisynphys.connectivity import measure_connectivity, pair_was_probed"
   ]
  },
  {
   "cell_type": "markdown",
   "metadata": {},
   "source": [
    "### 1. Load the data\n",
    "\n",
    "First, load up the \"small\" database from release 1.0 and query all cell `pairs` for mouse projects."
   ]
  },
  {
   "cell_type": "code",
   "execution_count": 6,
   "metadata": {},
   "outputs": [
    {
     "name": "stdout",
     "output_type": "stream",
     "text": [
      "loaded 1804 synapses\n"
     ]
    }
   ],
   "source": [
    "# Download and cache the sqlite file for the requested database\n",
    "#   (for available versions, see SynphysDatabase.list_versions)\n",
    "db = SynphysDatabase.load_current('small')\n",
    "\n",
    "# Load all synapses associated with mouse multipatch experiments\n",
    "pairs = db.pair_query(\n",
    "    experiment_type='standard multipatch',\n",
    "    species='mouse',\n",
    "    synapse=True,\n",
    ").all()\n",
    "\n",
    "print(\"loaded %d synapses\" % len(pairs))"
   ]
  },
  {
   "cell_type": "markdown",
   "metadata": {},
   "source": [
    "## 2. Classify cells\n",
    "\n",
    "We will pick four simple class defintions for this analysis:"
   ]
  },
  {
   "cell_type": "code",
   "execution_count": 7,
   "metadata": {},
   "outputs": [],
   "source": [
    "cell_classes = {\n",
    "    'pyr': CellClass(cell_class='ex', name='pyr'),\n",
    "    'pvalb': CellClass(cre_type='pvalb', name='pvalb'),\n",
    "    'sst': CellClass(cre_type='sst', name='sst'),\n",
    "    'vip': CellClass(cre_type='vip', name='vip'),\n",
    "}   "
   ]
  },
  {
   "cell_type": "code",
   "execution_count": 8,
   "metadata": {},
   "outputs": [],
   "source": [
    "# get a list of all cells in the selected pairs\n",
    "cells = set([pair.pre_cell for pair in pairs] + [pair.post_cell for pair in pairs])\n",
    "\n",
    "# Classify each cell. Note that, depending on the class definitions above, a cell could \n",
    "# belong to multiple classes. \n",
    "cell_class = {}\n",
    "for cell in cells:\n",
    "    # which of the classes defined above is this cell a member of?\n",
    "    cell_in_classes = [cls_name for cls_name, cls in cell_classes.items() if cell in cls]\n",
    "    cell_class[cell] = ','.join(cell_in_classes)"
   ]
  },
  {
   "cell_type": "markdown",
   "metadata": {},
   "source": [
    "## 3. Construct a dataframe\n",
    "\n",
    "Now we build a dataframe with one row per synapse that contains the pre/postsynaptic cell class names as well as a measure of short-term plasticity."
   ]
  },
  {
   "cell_type": "code",
   "execution_count": 9,
   "metadata": {},
   "outputs": [
    {
     "data": {
      "text/html": [
       "<div>\n",
       "<style scoped>\n",
       "    .dataframe tbody tr th:only-of-type {\n",
       "        vertical-align: middle;\n",
       "    }\n",
       "\n",
       "    .dataframe tbody tr th {\n",
       "        vertical-align: top;\n",
       "    }\n",
       "\n",
       "    .dataframe thead th {\n",
       "        text-align: right;\n",
       "    }\n",
       "</style>\n",
       "<table border=\"1\" class=\"dataframe\">\n",
       "  <thead>\n",
       "    <tr style=\"text-align: right;\">\n",
       "      <th></th>\n",
       "      <th>pair</th>\n",
       "      <th>pre_class</th>\n",
       "      <th>post_class</th>\n",
       "      <th>stp</th>\n",
       "      <th>variance</th>\n",
       "    </tr>\n",
       "  </thead>\n",
       "  <tbody>\n",
       "    <tr>\n",
       "      <th>1</th>\n",
       "      <td>&lt;Pair 1497653267.742 3 2&gt;</td>\n",
       "      <td>pyr</td>\n",
       "      <td>sst</td>\n",
       "      <td>0.086252</td>\n",
       "      <td>1.203914</td>\n",
       "    </tr>\n",
       "    <tr>\n",
       "      <th>2</th>\n",
       "      <td>&lt;Pair 1497653267.742 3 4&gt;</td>\n",
       "      <td>pyr</td>\n",
       "      <td>sst</td>\n",
       "      <td>0.125080</td>\n",
       "      <td>0.784970</td>\n",
       "    </tr>\n",
       "    <tr>\n",
       "      <th>6</th>\n",
       "      <td>&lt;Pair 1497469151.704 8 5&gt;</td>\n",
       "      <td>pyr</td>\n",
       "      <td>pyr</td>\n",
       "      <td>-0.618297</td>\n",
       "      <td>-1.951561</td>\n",
       "    </tr>\n",
       "    <tr>\n",
       "      <th>11</th>\n",
       "      <td>&lt;Pair 1485904693.103 8 2&gt;</td>\n",
       "      <td>pyr</td>\n",
       "      <td>pyr</td>\n",
       "      <td>-0.857860</td>\n",
       "      <td>-1.263792</td>\n",
       "    </tr>\n",
       "    <tr>\n",
       "      <th>12</th>\n",
       "      <td>&lt;Pair 1485904693.103 1 2&gt;</td>\n",
       "      <td>pyr</td>\n",
       "      <td>pyr</td>\n",
       "      <td>-0.341815</td>\n",
       "      <td>-1.970143</td>\n",
       "    </tr>\n",
       "  </tbody>\n",
       "</table>\n",
       "</div>"
      ],
      "text/plain": [
       "                         pair pre_class post_class       stp  variance\n",
       "1   <Pair 1497653267.742 3 2>       pyr        sst  0.086252  1.203914\n",
       "2   <Pair 1497653267.742 3 4>       pyr        sst  0.125080  0.784970\n",
       "6   <Pair 1497469151.704 8 5>       pyr        pyr -0.618297 -1.951561\n",
       "11  <Pair 1485904693.103 8 2>       pyr        pyr -0.857860 -1.263792\n",
       "12  <Pair 1485904693.103 1 2>       pyr        pyr -0.341815 -1.970143"
      ]
     },
     "execution_count": 9,
     "metadata": {},
     "output_type": "execute_result"
    }
   ],
   "source": [
    "import pandas\n",
    "\n",
    "# construct a pandas dataframe containing the pre/postsynaptic cell class names\n",
    "# and a measure of short-term plasticity and variance\n",
    "pre_class = [cell_class[pair.pre_cell] for pair in pairs]\n",
    "post_class = [cell_class[pair.post_cell] for pair in pairs]\n",
    "stp = [None if pair.dynamics is None else pair.dynamics.stp_induction_50hz for pair in pairs]\n",
    "variance = [None if pair.dynamics is None else pair.dynamics.variability_resting_state for pair in pairs]\n",
    "\n",
    "df = pandas.DataFrame(\n",
    "    zip(pairs, pre_class, post_class, stp, variance), \n",
    "    columns=['pair', 'pre_class', 'post_class', 'stp', 'variance']) \n",
    "\n",
    "# select out only cells that are a member of exactly 1 class\n",
    "mask = df.pre_class.isin(cell_classes) & df.post_class.isin(cell_classes)\n",
    "df = df[mask]\n",
    "\n",
    "# select only pairs with a measured stp\n",
    "df = df.dropna()\n",
    "\n",
    "df.head()"
   ]
  },
  {
   "cell_type": "markdown",
   "metadata": {},
   "source": [
    "## 4. Calculate average STP metric for each pre/post pairing"
   ]
  },
  {
   "cell_type": "code",
   "execution_count": 10,
   "metadata": {},
   "outputs": [
    {
     "data": {
      "text/html": [
       "<div>\n",
       "<style scoped>\n",
       "    .dataframe tbody tr th:only-of-type {\n",
       "        vertical-align: middle;\n",
       "    }\n",
       "\n",
       "    .dataframe tbody tr th {\n",
       "        vertical-align: top;\n",
       "    }\n",
       "\n",
       "    .dataframe thead th {\n",
       "        text-align: right;\n",
       "    }\n",
       "</style>\n",
       "<table border=\"1\" class=\"dataframe\">\n",
       "  <thead>\n",
       "    <tr style=\"text-align: right;\">\n",
       "      <th>post_class</th>\n",
       "      <th>pyr</th>\n",
       "      <th>pvalb</th>\n",
       "      <th>sst</th>\n",
       "      <th>vip</th>\n",
       "    </tr>\n",
       "    <tr>\n",
       "      <th>pre_class</th>\n",
       "      <th></th>\n",
       "      <th></th>\n",
       "      <th></th>\n",
       "      <th></th>\n",
       "    </tr>\n",
       "  </thead>\n",
       "  <tbody>\n",
       "    <tr>\n",
       "      <th>pyr</th>\n",
       "      <td>-0.364574</td>\n",
       "      <td>-0.250489</td>\n",
       "      <td>0.143129</td>\n",
       "      <td>-0.021743</td>\n",
       "    </tr>\n",
       "    <tr>\n",
       "      <th>pvalb</th>\n",
       "      <td>-0.529520</td>\n",
       "      <td>-0.519093</td>\n",
       "      <td>-0.441440</td>\n",
       "      <td>-0.329953</td>\n",
       "    </tr>\n",
       "    <tr>\n",
       "      <th>sst</th>\n",
       "      <td>-0.159527</td>\n",
       "      <td>-0.123532</td>\n",
       "      <td>-0.295980</td>\n",
       "      <td>0.207195</td>\n",
       "    </tr>\n",
       "    <tr>\n",
       "      <th>vip</th>\n",
       "      <td>-0.106302</td>\n",
       "      <td>-0.130280</td>\n",
       "      <td>0.073752</td>\n",
       "      <td>-0.034678</td>\n",
       "    </tr>\n",
       "  </tbody>\n",
       "</table>\n",
       "</div>"
      ],
      "text/plain": [
       "post_class       pyr     pvalb       sst       vip\n",
       "pre_class                                         \n",
       "pyr        -0.364574 -0.250489  0.143129 -0.021743\n",
       "pvalb      -0.529520 -0.519093 -0.441440 -0.329953\n",
       "sst        -0.159527 -0.123532 -0.295980  0.207195\n",
       "vip        -0.106302 -0.130280  0.073752 -0.034678"
      ]
     },
     "execution_count": 10,
     "metadata": {},
     "output_type": "execute_result"
    }
   ],
   "source": [
    "stp = df.pivot_table('stp', 'pre_class', 'post_class', aggfunc=np.mean)\n",
    "\n",
    "# sort rows/cols into the expected order\n",
    "order = list(cell_classes)\n",
    "stp = stp[order].loc[order]\n",
    "\n",
    "stp"
   ]
  },
  {
   "cell_type": "code",
   "execution_count": 11,
   "metadata": {},
   "outputs": [
    {
     "data": {
      "image/png": "[encoded data removed]",
      "text/plain": [
       "<Figure size 576x432 with 2 Axes>"
      ]
     },
     "metadata": {
      "needs_background": "light"
     },
     "output_type": "display_data"
    }
   ],
   "source": [
    "import matplotlib.pyplot as plt\n",
    "import seaborn as sns\n",
    "%matplotlib inline\n",
    "\n",
    "fig,ax = plt.subplots(figsize=(8, 6))\n",
    "\n",
    "hm = sns.heatmap(stp, cmap='coolwarm', vmin=-0.4, vmax=0.4, square=True, ax=ax,\n",
    "                cbar_kws={\"ticks\":[-0.3, 0, 0.3], 'label': '<-- depressing       facilitating -->'})\n",
    "\n",
    "fig.suptitle(\"50 Hz Train-induced STP\", fontsize=16)\n",
    "hm.set_xlabel(\"postsynaptic\", fontsize=14)\n",
    "hm.set_ylabel(\"presynaptic\", fontsize=14);\n",
    "hm.figure.axes[-1].yaxis.label.set_size(14)\n",
    "hm.tick_params(labelsize=12)"
   ]
  },
  {
   "cell_type": "markdown",
   "metadata": {},
   "source": [
    "## Alternatively, we can calculate the average resting state variance for each pairing"
   ]
  },
  {
   "cell_type": "code",
   "execution_count": 12,
   "metadata": {},
   "outputs": [
    {
     "data": {
      "text/html": [
       "<div>\n",
       "<style scoped>\n",
       "    .dataframe tbody tr th:only-of-type {\n",
       "        vertical-align: middle;\n",
       "    }\n",
       "\n",
       "    .dataframe tbody tr th {\n",
       "        vertical-align: top;\n",
       "    }\n",
       "\n",
       "    .dataframe thead th {\n",
       "        text-align: right;\n",
       "    }\n",
       "</style>\n",
       "<table border=\"1\" class=\"dataframe\">\n",
       "  <thead>\n",
       "    <tr style=\"text-align: right;\">\n",
       "      <th>post_class</th>\n",
       "      <th>pyr</th>\n",
       "      <th>pvalb</th>\n",
       "      <th>sst</th>\n",
       "      <th>vip</th>\n",
       "    </tr>\n",
       "    <tr>\n",
       "      <th>pre_class</th>\n",
       "      <th></th>\n",
       "      <th></th>\n",
       "      <th></th>\n",
       "      <th></th>\n",
       "    </tr>\n",
       "  </thead>\n",
       "  <tbody>\n",
       "    <tr>\n",
       "      <th>pyr</th>\n",
       "      <td>-0.309445</td>\n",
       "      <td>0.491906</td>\n",
       "      <td>1.781470</td>\n",
       "      <td>1.442159</td>\n",
       "    </tr>\n",
       "    <tr>\n",
       "      <th>pvalb</th>\n",
       "      <td>-0.768287</td>\n",
       "      <td>-0.962233</td>\n",
       "      <td>-0.715864</td>\n",
       "      <td>-0.356003</td>\n",
       "    </tr>\n",
       "    <tr>\n",
       "      <th>sst</th>\n",
       "      <td>-0.303308</td>\n",
       "      <td>-0.156712</td>\n",
       "      <td>0.038853</td>\n",
       "      <td>0.079488</td>\n",
       "    </tr>\n",
       "    <tr>\n",
       "      <th>vip</th>\n",
       "      <td>0.486764</td>\n",
       "      <td>0.653275</td>\n",
       "      <td>0.295944</td>\n",
       "      <td>0.464769</td>\n",
       "    </tr>\n",
       "  </tbody>\n",
       "</table>\n",
       "</div>"
      ],
      "text/plain": [
       "post_class       pyr     pvalb       sst       vip\n",
       "pre_class                                         \n",
       "pyr        -0.309445  0.491906  1.781470  1.442159\n",
       "pvalb      -0.768287 -0.962233 -0.715864 -0.356003\n",
       "sst        -0.303308 -0.156712  0.038853  0.079488\n",
       "vip         0.486764  0.653275  0.295944  0.464769"
      ]
     },
     "execution_count": 12,
     "metadata": {},
     "output_type": "execute_result"
    }
   ],
   "source": [
    "var = df.pivot_table('variance', 'pre_class', 'post_class', aggfunc=np.mean)\n",
    "\n",
    "# sort rows/cols into the expected order\n",
    "order = list(cell_classes)\n",
    "var = var[order].loc[order]\n",
    "\n",
    "var"
   ]
  },
  {
   "cell_type": "code",
   "execution_count": 17,
   "metadata": {},
   "outputs": [
    {
     "data": {
      "image/png": "[encoded data removed]",
      "text/plain": [
       "<Figure size 576x432 with 2 Axes>"
      ]
     },
     "metadata": {
      "needs_background": "light"
     },
     "output_type": "display_data"
    }
   ],
   "source": [
    "fig,ax = plt.subplots(figsize=(8, 6))\n",
    "\n",
    "hm = sns.heatmap(var, cmap='viridis', vmin=-1.5, vmax=1.5, square=True, ax=ax,\n",
    "                cbar_kws={\"ticks\":[-1.5, 0, 1.5], 'label': '<-- low variance        high variance -->'})\n",
    "\n",
    "fig.suptitle(\"Resting State Variability\", fontsize=16)\n",
    "hm.set_xlabel(\"postsynaptic\", fontsize=14)\n",
    "hm.set_ylabel(\"presynaptic\", fontsize=14);\n",
    "hm.figure.axes[-1].yaxis.label.set_size(14)\n",
    "hm.tick_params(labelsize=12)"
   ]
  },
  {
   "cell_type": "markdown",
   "metadata": {},
   "source": [
    "## 5. Extract multiple synaptic properties and plot as matrices"
   ]
  },
  {
   "cell_type": "markdown",
   "metadata": {},
   "source": [
    "Plotting synaptic properties among cell sublcasses in matrices like these is common enough that we have provided a convenince function to do just that called `cell_class_matrix`"
   ]
  },
  {
   "cell_type": "code",
   "execution_count": 18,
   "metadata": {},
   "outputs": [
    {
     "data": {
      "image/png": "[encoded data removed]",
      "text/plain": [
       "<Figure size 1152x216 with 6 Axes>"
      ]
     },
     "metadata": {
      "needs_background": "light"
     },
     "output_type": "display_data"
    }
   ],
   "source": [
    "from aisynphys.ui.notebook import cell_class_matrix\n",
    "\n",
    "fig,ax = plt.subplots(1, 3, figsize=(16, 3))\n",
    "\n",
    "metrics = ['stp_induction_50hz', 'stp_recovery_250ms', 'variability_resting_state']\n",
    "\n",
    "for i, metric in enumerate(metrics):\n",
    "    cell_class_matrix(\n",
    "        pre_classes=cell_classes, \n",
    "        post_classes=cell_classes,\n",
    "        metric=metric, \n",
    "        class_labels=None, ax=ax[i],\n",
    "        db=db, pair_query_args={\n",
    "            'experiment_type': 'standard multipatch',\n",
    "            'synapse': True,\n",
    "            'species': 'mouse',\n",
    "        }\n",
    "    );"
   ]
  },
  {
   "cell_type": "code",
   "execution_count": null,
   "metadata": {},
   "outputs": [],
   "source": []
  }
 ],
 "metadata": {
  "kernelspec": {
   "display_name": "Python 3",
   "language": "python",
   "name": "python3"
  },
  "language_info": {
   "codemirror_mode": {
    "name": "ipython",
    "version": 3
   },
   "file_extension": ".py",
   "mimetype": "text/x-python",
   "name": "python",
   "nbconvert_exporter": "python",
   "pygments_lexer": "ipython3",
   "version": "3.7.4"
  }
 },
 "nbformat": 4,
 "nbformat_minor": 2
}
