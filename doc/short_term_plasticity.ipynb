{
 "cells": [
  {
   "cell_type": "markdown",
   "metadata": {},
   "source": [
    "# Measuring Synaptic Short Term Plasticity\n",
    "\n",
    "In this notebook we use the [Allen Institute synaptic physiology dataset](https://portal.brain-map.org/explore/connectivity/synaptic-physiology) to measure short term plasticity and its relationship to cell subclass.\n",
    "\n",
    "For an introduction to the Jupyter Notebook interface interface, try [Codeacademy: How To Use Jupyter Notebooks]( https://www.codecademy.com/articles/how-to-use-jupyter-notebooks) or [Jupyter Notebook Quick Start Guide](https://jupyter-notebook-beginner-guide.readthedocs.io/en/latest/what_is_jupyter.html).\n"
   ]
  },
  {
   "cell_type": "code",
   "execution_count": 1,
   "metadata": {},
   "outputs": [],
   "source": [
    "import numpy as np\n",
    "import scipy.stats\n",
    "from aisynphys.database import SynphysDatabase\n",
    "from aisynphys.cell_class import CellClass, classify_cells, classify_pairs\n",
    "from aisynphys.connectivity import measure_connectivity, pair_was_probed"
   ]
  },
  {
   "cell_type": "markdown",
   "metadata": {},
   "source": [
    "### 1. Load the data\n",
    "\n",
    "First, load up the \"small\" database from release 1.0 and query all cell `pairs` for mouse projects."
   ]
  },
  {
   "cell_type": "code",
   "execution_count": 2,
   "metadata": {},
   "outputs": [
    {
     "name": "stdout",
     "output_type": "stream",
     "text": [
      "loaded 1368 synapses\n"
     ]
    }
   ],
   "source": [
    "# Download and cache the sqlite file for the requested database\n",
    "#   (for available versions, see SynphysDatabase.list_versions)\n",
    "db = SynphysDatabase.load_version('synphys_r1.0_2019-08-29_small.sqlite')\n",
    "\n",
    "# Load all synapses associated with mouse V1 projects\n",
    "pairs = db.pair_query(\n",
    "    project_name=[\"mouse V1 coarse matrix\", \"mouse V1 pre-production\"],\n",
    "    synapse=True,\n",
    ").all()\n",
    "\n",
    "print(\"loaded %d synapses\" % len(pairs))"
   ]
  },
  {
   "cell_type": "markdown",
   "metadata": {},
   "source": [
    "## 2. Classify cells\n",
    "\n",
    "We will pick four simple class defintions for this analysis:"
   ]
  },
  {
   "cell_type": "code",
   "execution_count": 3,
   "metadata": {},
   "outputs": [],
   "source": [
    "cell_classes = {\n",
    "    'pyr': CellClass(cell_class='ex', name='pyr'),\n",
    "    'pvalb': CellClass(cre_type='pvalb', name='pvalb'),\n",
    "    'sst': CellClass(cre_type='sst', name='sst'),\n",
    "    'vip': CellClass(cre_type='vip', name='vip'),\n",
    "}   "
   ]
  },
  {
   "cell_type": "code",
   "execution_count": 4,
   "metadata": {},
   "outputs": [],
   "source": [
    "# get a list of all cells in the selected pairs\n",
    "cells = set([pair.pre_cell for pair in pairs] + [pair.post_cell for pair in pairs])\n",
    "\n",
    "# Classify each cell. Note that, depending on the class definitions above, a cell could \n",
    "# belong to multiple classes. \n",
    "cell_class = {}\n",
    "for cell in cells:\n",
    "    # which of the classes defined above is this cell a member of?\n",
    "    cell_in_classes = [cls_name for cls_name, cls in cell_classes.items() if cell in cls]\n",
    "    cell_class[cell] = ','.join(cell_in_classes)"
   ]
  },
  {
   "cell_type": "markdown",
   "metadata": {},
   "source": [
    "## 3. Construct a dataframe\n",
    "\n",
    "Now we build a dataframe with one row per synapse that contains the pre/postsynaptic cell class names as well as a measure of short-term plasticity."
   ]
  },
  {
   "cell_type": "code",
   "execution_count": 5,
   "metadata": {},
   "outputs": [
    {
     "data": {
      "text/html": [
       "<div>\n",
       "<style scoped>\n",
       "    .dataframe tbody tr th:only-of-type {\n",
       "        vertical-align: middle;\n",
       "    }\n",
       "\n",
       "    .dataframe tbody tr th {\n",
       "        vertical-align: top;\n",
       "    }\n",
       "\n",
       "    .dataframe thead th {\n",
       "        text-align: right;\n",
       "    }\n",
       "</style>\n",
       "<table border=\"1\" class=\"dataframe\">\n",
       "  <thead>\n",
       "    <tr style=\"text-align: right;\">\n",
       "      <th></th>\n",
       "      <th>pair</th>\n",
       "      <th>pre_class</th>\n",
       "      <th>post_class</th>\n",
       "      <th>stp</th>\n",
       "    </tr>\n",
       "  </thead>\n",
       "  <tbody>\n",
       "    <tr>\n",
       "      <th>2</th>\n",
       "      <td>&lt;pair 1492460382.776 4 6&gt;</td>\n",
       "      <td>pyr</td>\n",
       "      <td>pyr</td>\n",
       "      <td>-0.084996</td>\n",
       "    </tr>\n",
       "    <tr>\n",
       "      <th>7</th>\n",
       "      <td>&lt;pair 1490997794.081 8 2&gt;</td>\n",
       "      <td>sst</td>\n",
       "      <td>vip</td>\n",
       "      <td>0.367114</td>\n",
       "    </tr>\n",
       "    <tr>\n",
       "      <th>8</th>\n",
       "      <td>&lt;pair 1490997794.081 8 7&gt;</td>\n",
       "      <td>sst</td>\n",
       "      <td>vip</td>\n",
       "      <td>0.323405</td>\n",
       "    </tr>\n",
       "    <tr>\n",
       "      <th>9</th>\n",
       "      <td>&lt;pair 1501101571.166 1 5&gt;</td>\n",
       "      <td>pyr</td>\n",
       "      <td>pyr</td>\n",
       "      <td>-0.114559</td>\n",
       "    </tr>\n",
       "    <tr>\n",
       "      <th>16</th>\n",
       "      <td>&lt;pair 1484862803.120 1 7&gt;</td>\n",
       "      <td>pvalb</td>\n",
       "      <td>pvalb</td>\n",
       "      <td>-0.347905</td>\n",
       "    </tr>\n",
       "  </tbody>\n",
       "</table>\n",
       "</div>"
      ],
      "text/plain": [
       "                         pair pre_class post_class       stp\n",
       "2   <pair 1492460382.776 4 6>       pyr        pyr -0.084996\n",
       "7   <pair 1490997794.081 8 2>       sst        vip  0.367114\n",
       "8   <pair 1490997794.081 8 7>       sst        vip  0.323405\n",
       "9   <pair 1501101571.166 1 5>       pyr        pyr -0.114559\n",
       "16  <pair 1484862803.120 1 7>     pvalb      pvalb -0.347905"
      ]
     },
     "execution_count": 5,
     "metadata": {},
     "output_type": "execute_result"
    }
   ],
   "source": [
    "import pandas\n",
    "\n",
    "# construct a pandas dataframe containing the pre/postsynaptic cell class names\n",
    "# and a measure of short-term plasticity\n",
    "pre_class = [cell_class[pair.pre_cell] for pair in pairs]\n",
    "post_class = [cell_class[pair.post_cell] for pair in pairs]\n",
    "stp = [None if pair.dynamics is None else pair.dynamics.stp_induction_50hz for pair in pairs]\n",
    "\n",
    "df = pandas.DataFrame(\n",
    "    zip(pairs, pre_class, post_class, stp), \n",
    "    columns=['pair', 'pre_class', 'post_class', 'stp']) \n",
    "\n",
    "# select out only cells that are a member of exactly 1 class\n",
    "mask = df.pre_class.isin(cell_classes) & df.post_class.isin(cell_classes)\n",
    "df = df[mask]\n",
    "\n",
    "# select only pairs with a measured stp\n",
    "df = df.dropna()\n",
    "\n",
    "df.head()"
   ]
  },
  {
   "cell_type": "markdown",
   "metadata": {},
   "source": [
    "## 4. Calculate average STP metric for each pre/post pairing"
   ]
  },
  {
   "cell_type": "code",
   "execution_count": 6,
   "metadata": {},
   "outputs": [
    {
     "data": {
      "text/html": [
       "<div>\n",
       "<style scoped>\n",
       "    .dataframe tbody tr th:only-of-type {\n",
       "        vertical-align: middle;\n",
       "    }\n",
       "\n",
       "    .dataframe tbody tr th {\n",
       "        vertical-align: top;\n",
       "    }\n",
       "\n",
       "    .dataframe thead th {\n",
       "        text-align: right;\n",
       "    }\n",
       "</style>\n",
       "<table border=\"1\" class=\"dataframe\">\n",
       "  <thead>\n",
       "    <tr style=\"text-align: right;\">\n",
       "      <th>post_class</th>\n",
       "      <th>pyr</th>\n",
       "      <th>pvalb</th>\n",
       "      <th>sst</th>\n",
       "      <th>vip</th>\n",
       "    </tr>\n",
       "    <tr>\n",
       "      <th>pre_class</th>\n",
       "      <th></th>\n",
       "      <th></th>\n",
       "      <th></th>\n",
       "      <th></th>\n",
       "    </tr>\n",
       "  </thead>\n",
       "  <tbody>\n",
       "    <tr>\n",
       "      <th>pyr</th>\n",
       "      <td>-0.273996</td>\n",
       "      <td>-0.185856</td>\n",
       "      <td>0.165965</td>\n",
       "      <td>-0.007874</td>\n",
       "    </tr>\n",
       "    <tr>\n",
       "      <th>pvalb</th>\n",
       "      <td>-0.455301</td>\n",
       "      <td>-0.365362</td>\n",
       "      <td>-0.423736</td>\n",
       "      <td>-0.327010</td>\n",
       "    </tr>\n",
       "    <tr>\n",
       "      <th>sst</th>\n",
       "      <td>-0.137356</td>\n",
       "      <td>-0.130458</td>\n",
       "      <td>-0.147765</td>\n",
       "      <td>0.132345</td>\n",
       "    </tr>\n",
       "    <tr>\n",
       "      <th>vip</th>\n",
       "      <td>-0.008266</td>\n",
       "      <td>-0.066462</td>\n",
       "      <td>-0.096198</td>\n",
       "      <td>-0.128896</td>\n",
       "    </tr>\n",
       "  </tbody>\n",
       "</table>\n",
       "</div>"
      ],
      "text/plain": [
       "post_class       pyr     pvalb       sst       vip\n",
       "pre_class                                         \n",
       "pyr        -0.273996 -0.185856  0.165965 -0.007874\n",
       "pvalb      -0.455301 -0.365362 -0.423736 -0.327010\n",
       "sst        -0.137356 -0.130458 -0.147765  0.132345\n",
       "vip        -0.008266 -0.066462 -0.096198 -0.128896"
      ]
     },
     "execution_count": 6,
     "metadata": {},
     "output_type": "execute_result"
    }
   ],
   "source": [
    "stp = df.pivot_table('stp', 'pre_class', 'post_class', aggfunc=np.mean)\n",
    "\n",
    "# sort rows/cols into the expected order\n",
    "order = list(cell_classes)\n",
    "stp = stp[order].loc[order]\n",
    "\n",
    "stp"
   ]
  },
  {
   "cell_type": "code",
   "execution_count": 7,
   "metadata": {},
   "outputs": [
    {
     "data": {
      "image/png": "[encoded data removed]",
      "text/plain": [
       "<Figure size 576x432 with 2 Axes>"
      ]
     },
     "metadata": {
      "needs_background": "light"
     },
     "output_type": "display_data"
    }
   ],
   "source": [
    "import matplotlib.pyplot as plt\n",
    "import seaborn as sns\n",
    "%matplotlib inline\n",
    "\n",
    "fig,ax = plt.subplots(figsize=(8, 6))\n",
    "\n",
    "hm = sns.heatmap(stp, cmap='coolwarm', vmin=-0.4, vmax=0.4, square=True, ax=ax,\n",
    "                cbar_kws={\"ticks\":[-0.3, 0, 0.3], 'label': '<-- depressing       facilitating -->'})\n",
    "\n",
    "fig.suptitle(\"50 Hz Train-induced STP\", fontsize=16)\n",
    "hm.set_xlabel(\"postsynaptic\", fontsize=14)\n",
    "hm.set_ylabel(\"presynaptic\", fontsize=14);\n",
    "hm.figure.axes[-1].yaxis.label.set_size(14)\n",
    "hm.tick_params(labelsize=12)"
   ]
  },
  {
   "cell_type": "code",
   "execution_count": null,
   "metadata": {},
   "outputs": [],
   "source": []
  }
 ],
 "metadata": {
  "kernelspec": {
   "display_name": "Python 3",
   "language": "python",
   "name": "python3"
  },
  "language_info": {
   "codemirror_mode": {
    "name": "ipython",
    "version": 3
   },
   "file_extension": ".py",
   "mimetype": "text/x-python",
   "name": "python",
   "nbconvert_exporter": "python",
   "pygments_lexer": "ipython3",
   "version": "3.7.2"
  }
 },
 "nbformat": 4,
 "nbformat_minor": 2
}
