{
 "cells": [
  {
   "cell_type": "code",
   "execution_count": 6,
   "metadata": {},
   "outputs": [],
   "source": [
    "import numpy as np\n",
    "from aisynphys.database import SynphysDatabase\n",
    "from aisynphys.cell_class import CellClass, classify_cells, classify_pairs\n",
    "from aisynphys.connectivity import measure_connectivity"
   ]
  },
  {
   "cell_type": "code",
   "execution_count": 7,
   "metadata": {},
   "outputs": [],
   "source": [
    "db = SynphysDatabase(ro_host='sqlite:///', rw_host=None, db_name='/home/luke/public/synphys_current_small.sqlite')"
   ]
  },
  {
   "cell_type": "markdown",
   "metadata": {},
   "source": [
    "Get a list of all cell pairs in the database from mouse matrix projects:"
   ]
  },
  {
   "cell_type": "code",
   "execution_count": 17,
   "metadata": {
    "scrolled": true
   },
   "outputs": [
    {
     "name": "stdout",
     "output_type": "stream",
     "text": [
      "All mouse cell pairs: 77084\n",
      "Mouse pairs that were probed for connectivity: 22251\n",
      "Mouse connected pairs: 1368\n",
      "Overall mouse connection probability: 0.06148038290413914\n"
     ]
    }
   ],
   "source": [
    "mouse_pairs = db.pair_query(project_name=[\"mouse V1 coarse matrix\", \"mouse V1 pre-production\"]).all()\n",
    "mouse_probed = [p for p in mouse_pairs if p.n_ex_test_spikes >= 10 or p.n_in_test_spikes >= 10]\n",
    "mouse_connected = [p for p in mouse_pairs if p.has_synapse]\n",
    "\n",
    "print(\"All mouse cell pairs:\", len(mouse_pairs))\n",
    "print(\"Mouse pairs that were probed for connectivity:\", len(mouse_probed))\n",
    "print(\"Mouse connected pairs:\", len(mouse_connected))\n",
    "print(\"Overall mouse connection probability:\", len(mouse_connected) / len(mouse_probed))"
   ]
  },
  {
   "cell_type": "code",
   "execution_count": 18,
   "metadata": {},
   "outputs": [
    {
     "name": "stdout",
     "output_type": "stream",
     "text": [
      "All human cell pairs: 10410\n",
      "Human pairs that were probed for connectivity: 3698\n",
      "Human connected pairs: 363\n",
      "Overall human connection probability: 0.0981611681990265\n"
     ]
    }
   ],
   "source": [
    "human_pairs = db.pair_query(project_name=[\"human coarse matrix\"]).all()\n",
    "human_probed = [p for p in human_pairs if p.n_ex_test_spikes >= 10 or p.n_in_test_spikes >= 10]\n",
    "human_connected = [p for p in human_pairs if p.has_synapse]\n",
    "\n",
    "print(\"All human cell pairs:\", len(human_pairs))\n",
    "print(\"Human pairs that were probed for connectivity:\", len(human_probed))\n",
    "print(\"Human connected pairs:\", len(human_connected))\n",
    "print(\"Overall human connection probability:\", len(human_connected) / len(human_probed))"
   ]
  },
  {
   "cell_type": "code",
   "execution_count": 42,
   "metadata": {},
   "outputs": [
    {
     "name": "stdout",
     "output_type": "stream",
     "text": [
      "835 human cells with cortical layer call\n",
      "5251 mouse cells with cortical layer call\n"
     ]
    }
   ],
   "source": [
    "for species in ('human', 'mouse'):\n",
    "    query = db.query(db.Cell, db.Morphology.cortical_layer)\n",
    "    query = query.join(db.Morphology).join(db.Experiment).join(db.Slice)\n",
    "    query = query.filter(db.Slice.species==species)\n",
    "    cells = query.dataframe()\n",
    "    n_cells_with_layer = sum(cells.cortical_layer.notnull())\n",
    "    print(\"%d %s cells with cortical layer call\" % (n_cells_with_layer, species))\n"
   ]
  },
  {
   "cell_type": "code",
   "execution_count": 45,
   "metadata": {},
   "outputs": [
    {
     "name": "stdout",
     "output_type": "stream",
     "text": [
      "835 human cells with cortical layer call\n",
      "5251 mouse cells with cortical layer call\n"
     ]
    }
   ],
   "source": [
    "cells = db.query(db.Cell).all()\n",
    "for species in ('human', 'mouse'):\n",
    "    n_cells_with_layer = 0\n",
    "    for cell in cells:\n",
    "        if cell.experiment.slice.species != species:\n",
    "            continue\n",
    "        if cell.morphology is not None and cell.morphology.cortical_layer is not None:\n",
    "            n_cells_with_layer += 1\n",
    "            \n",
    "    print(\"%d %s cells with cortical layer call\" % (n_cells_with_layer, species))\n"
   ]
  },
  {
   "cell_type": "code",
   "execution_count": 50,
   "metadata": {},
   "outputs": [
    {
     "data": {
      "text/plain": [
       "{'db_version': '15',\n",
       " 'creation_date': '2019-08-29',\n",
       " 'origin': 'Allen Institute for Brain Science / Synaptic Physiology'}"
      ]
     },
     "execution_count": 50,
     "metadata": {},
     "output_type": "execute_result"
    }
   ],
   "source": [
    "db.query(db.Metadata).all()[0].meta"
   ]
  },
  {
   "cell_type": "code",
   "execution_count": null,
   "metadata": {},
   "outputs": [],
   "source": []
  }
 ],
 "metadata": {
  "kernelspec": {
   "display_name": "Python 3",
   "language": "python",
   "name": "python3"
  },
  "language_info": {
   "codemirror_mode": {
    "name": "ipython",
    "version": 3
   },
   "file_extension": ".py",
   "mimetype": "text/x-python",
   "name": "python",
   "nbconvert_exporter": "python",
   "pygments_lexer": "ipython3",
   "version": "3.7.2"
  }
 },
 "nbformat": 4,
 "nbformat_minor": 2
}
