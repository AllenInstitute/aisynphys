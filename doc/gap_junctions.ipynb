{
 "cells": [
  {
   "cell_type": "markdown",
   "id": "e47eb9cc",
   "metadata": {},
   "source": [
    "# Exploring Electrical Synapses\n",
    "\n",
    "In this notebook we use the [Allen Institute synaptic physiology dataset](https://portal.brain-map.org/explore/connectivity/synaptic-physiology) to explore electrical synapses between inihibitory subclasses\n",
    "\n",
    "For an introduction to the Jupyter Notebook interface, try [Codeacademy: How To Use Jupyter Notebooks]( https://www.codecademy.com/articles/how-to-use-jupyter-notebooks) or [Jupyter Notebook Quick Start Guide](https://jupyter-notebook-beginner-guide.readthedocs.io/en/latest/what_is_jupyter.html).\n"
   ]
  },
  {
   "cell_type": "code",
   "execution_count": 1,
   "id": "26e1c5e0",
   "metadata": {},
   "outputs": [
    {
     "name": "stderr",
     "output_type": "stream",
     "text": [
      "c:\\users\\stephanies\\appdata\\local\\continuum\\miniconda3\\envs\\py3\\lib\\site-packages\\statsmodels\\tools\\_testing.py:19: FutureWarning: pandas.util.testing is deprecated. Use the functions in the public API at pandas.testing instead.\n",
      "  import pandas.util.testing as tm\n"
     ]
    }
   ],
   "source": [
    "from aisynphys.database import SynphysDatabase\n",
    "from aisynphys.cell_class import CellClass, classify_cells, classify_pairs\n",
    "from aisynphys.connectivity import measure_connectivity"
   ]
  },
  {
   "cell_type": "code",
   "execution_count": 2,
   "id": "acb3411a",
   "metadata": {},
   "outputs": [],
   "source": [
    "from aisynphys.database import default_db as db # remove when new DB is available"
   ]
  },
  {
   "cell_type": "code",
   "execution_count": null,
   "id": "a9739e80",
   "metadata": {},
   "outputs": [],
   "source": [
    "# Download and cache the sqlite file for the requested database\n",
    "#   (for available versions, see SynphysDatabase.list_versions)\n",
    "db = SynphysDatabase.load_current('small')"
   ]
  },
  {
   "cell_type": "markdown",
   "id": "423cdcd0",
   "metadata": {},
   "source": [
    "Electrical synapses (sometimes referred to as gap junctions) primarily exist between like inhibitory subclasses. Here we will explore the electrical connectivity of innhibitory cells and strength of electrical synapses as measured by junctional conductance."
   ]
  },
  {
   "cell_type": "markdown",
   "id": "b4b8b470",
   "metadata": {},
   "source": [
    "Let's begin by defining our inhibitory cell subclasses:"
   ]
  },
  {
   "cell_type": "code",
   "execution_count": 12,
   "id": "08203163",
   "metadata": {},
   "outputs": [],
   "source": [
    "inhib_subclasses = {\n",
    "    'pv': CellClass(cre_type='pvalb', name='pv'),\n",
    "    'sst': CellClass(cre_type='sst', name='sst'),\n",
    "    'vip': CellClass(cre_type='vip', name='vip'),\n",
    "}"
   ]
  },
  {
   "cell_type": "markdown",
   "id": "20fdc06a",
   "metadata": {},
   "source": [
    "We'll now load all of our mouse pairs to measure the rate of electrical connectivity among these subclasses"
   ]
  },
  {
   "cell_type": "code",
   "execution_count": 7,
   "id": "7d8fc9d2",
   "metadata": {},
   "outputs": [
    {
     "name": "stdout",
     "output_type": "stream",
     "text": [
      "83006\n"
     ]
    }
   ],
   "source": [
    "mouse_pairs = db.pair_query(experiment_type='standard multipatch', species='mouse').all() \n",
    "print(len(mouse_pairs))"
   ]
  },
  {
   "cell_type": "markdown",
   "id": "b33a3c06",
   "metadata": {},
   "source": [
    "First we group all of the cells by their subclass, then create all of the possible pair-group combinations, and finally measure the connectivity between them. Note that the `measure_connectiviy` method measures both chemical and electrical connectivity, but that here we use a shorter sigma to fit the distance-adjusted model. See the Connectivity Adjustment notebook as well as our paper [] for more details."
   ]
  },
  {
   "cell_type": "code",
   "execution_count": 13,
   "id": "2b1b8d91",
   "metadata": {},
   "outputs": [],
   "source": [
    "# Group all cells by selected subclasses\n",
    "cell_groups = classify_cells(inhib_subclasses.values(), pairs=mouse_pairs)\n",
    "\n",
    "# Group pairs into (pre_class, post_class) groups\n",
    "pair_groups = classify_pairs(mouse_pairs, cell_groups)\n",
    "\n",
    "# analyze matrix elements\n",
    "results = measure_connectivity(pair_groups, sigma=75e-6, dist_measure='lateral_distance')"
   ]
  },
  {
   "cell_type": "markdown",
   "id": "554aeccd",
   "metadata": {},
   "source": [
    "Now we can plot the results as a matrix"
   ]
  },
  {
   "cell_type": "code",
   "execution_count": 14,
   "id": "716b3190",
   "metadata": {},
   "outputs": [
    {
     "data": {
      "image/png": "[encoded data removed]",
      "text/plain": [
       "<Figure size 432x432 with 2 Axes>"
      ]
     },
     "metadata": {
      "needs_background": "light"
     },
     "output_type": "display_data"
    }
   ],
   "source": [
    "import matplotlib.colors, matplotlib.cm\n",
    "import matplotlib.pyplot as plt\n",
    "from aisynphys.ui.notebook import show_connectivity_matrix\n",
    "%matplotlib inline\n",
    "\n",
    "# define a colormap and log normalization used to color the heatmap\n",
    "norm = matplotlib.colors.LogNorm(vmin=0.01, vmax=1.0, clip=True)\n",
    "cmap = matplotlib.cm.get_cmap('plasma')\n",
    "\n",
    "# define the display labels to use for each cell subclass:\n",
    "class_labels = {\n",
    "    'pv': 'Pv',\n",
    "    'sst':  'Sst',\n",
    "    'vip': 'Vip',\n",
    "}\n",
    "\n",
    "# create a figure/axes to draw on\n",
    "fig, ax = plt.subplots(figsize=(6, 6))\n",
    "\n",
    "# finally, draw the colormap using the provided function:\n",
    "im, cbar, labels = show_connectivity_matrix(\n",
    "    ax=ax, \n",
    "    results=results, \n",
    "    pre_cell_classes=inhib_subclasses.values(), \n",
    "    post_cell_classes=inhib_subclasses.values(), \n",
    "    class_labels=class_labels, \n",
    "    cmap=cmap, \n",
    "    norm=norm,\n",
    "    distance_adjusted=True,\n",
    "    ctype='electrical', # here we change the ctype from the default \"chemical\" to \"electrical\"\n",
    "    cbarlabel='Electrical synapse probability',\n",
    ")"
   ]
  },
  {
   "cell_type": "code",
   "execution_count": 15,
   "id": "af0c4d43",
   "metadata": {},
   "outputs": [],
   "source": [
    "fig.savefig('gap_junction.svg', bbox_inches='tight')"
   ]
  },
  {
   "cell_type": "markdown",
   "id": "75876bf8",
   "metadata": {},
   "source": [
    "We measure the strength of electrical synapses using junctional conductance. This can be extracted from the gap_junction table along with other parameters such as coupling coefficient and cross-correlation values during the stimulus pulse and during baseline periods."
   ]
  },
  {
   "cell_type": "markdown",
   "id": "717ee29d",
   "metadata": {},
   "source": [
    "We can again query the database for mouse pairs but this time filter just for electrical connections between like subclasses"
   ]
  },
  {
   "cell_type": "code",
   "execution_count": 25,
   "id": "15661275",
   "metadata": {},
   "outputs": [
    {
     "data": {
      "text/html": [
       "<div>\n",
       "<style scoped>\n",
       "    .dataframe tbody tr th:only-of-type {\n",
       "        vertical-align: middle;\n",
       "    }\n",
       "\n",
       "    .dataframe tbody tr th {\n",
       "        vertical-align: top;\n",
       "    }\n",
       "\n",
       "    .dataframe thead th {\n",
       "        text-align: right;\n",
       "    }\n",
       "</style>\n",
       "<table border=\"1\" class=\"dataframe\">\n",
       "  <thead>\n",
       "    <tr style=\"text-align: right;\">\n",
       "      <th></th>\n",
       "      <th>pair.id</th>\n",
       "      <th>pair.experiment_id</th>\n",
       "      <th>pair.pre_cell_id</th>\n",
       "      <th>pair.post_cell_id</th>\n",
       "      <th>pair.has_synapse</th>\n",
       "      <th>pair.has_polysynapse</th>\n",
       "      <th>pair.has_electrical</th>\n",
       "      <th>pair.crosstalk_artifact</th>\n",
       "      <th>pair.n_ex_test_spikes</th>\n",
       "      <th>pair.n_in_test_spikes</th>\n",
       "      <th>pair.distance</th>\n",
       "      <th>pair.lateral_distance</th>\n",
       "      <th>pair.vertical_distance</th>\n",
       "      <th>pair.reciprocal_id</th>\n",
       "      <th>pair.meta</th>\n",
       "      <th>gap_junction.junctional_conductance</th>\n",
       "      <th>pair_class</th>\n",
       "    </tr>\n",
       "  </thead>\n",
       "  <tbody>\n",
       "    <tr>\n",
       "      <th>0</th>\n",
       "      <td>52178</td>\n",
       "      <td>1539</td>\n",
       "      <td>9086</td>\n",
       "      <td>9087</td>\n",
       "      <td>False</td>\n",
       "      <td>False</td>\n",
       "      <td>True</td>\n",
       "      <td>NaN</td>\n",
       "      <td>418</td>\n",
       "      <td>300</td>\n",
       "      <td>0.000092</td>\n",
       "      <td>0.000027</td>\n",
       "      <td>0.000078</td>\n",
       "      <td>52189</td>\n",
       "      <td>None</td>\n",
       "      <td>1.156760</td>\n",
       "      <td>pvalb→pvalb</td>\n",
       "    </tr>\n",
       "    <tr>\n",
       "      <th>1</th>\n",
       "      <td>52189</td>\n",
       "      <td>1539</td>\n",
       "      <td>9087</td>\n",
       "      <td>9086</td>\n",
       "      <td>False</td>\n",
       "      <td>False</td>\n",
       "      <td>True</td>\n",
       "      <td>NaN</td>\n",
       "      <td>417</td>\n",
       "      <td>299</td>\n",
       "      <td>0.000092</td>\n",
       "      <td>0.000027</td>\n",
       "      <td>0.000078</td>\n",
       "      <td>52178</td>\n",
       "      <td>None</td>\n",
       "      <td>1.494854</td>\n",
       "      <td>pvalb→pvalb</td>\n",
       "    </tr>\n",
       "    <tr>\n",
       "      <th>2</th>\n",
       "      <td>113767</td>\n",
       "      <td>3981</td>\n",
       "      <td>21393</td>\n",
       "      <td>21392</td>\n",
       "      <td>True</td>\n",
       "      <td>False</td>\n",
       "      <td>True</td>\n",
       "      <td>NaN</td>\n",
       "      <td>420</td>\n",
       "      <td>348</td>\n",
       "      <td>0.000084</td>\n",
       "      <td>NaN</td>\n",
       "      <td>NaN</td>\n",
       "      <td>113765</td>\n",
       "      <td>None</td>\n",
       "      <td>0.245593</td>\n",
       "      <td>pvalb→pvalb</td>\n",
       "    </tr>\n",
       "    <tr>\n",
       "      <th>3</th>\n",
       "      <td>123654</td>\n",
       "      <td>5109</td>\n",
       "      <td>24793</td>\n",
       "      <td>24795</td>\n",
       "      <td>False</td>\n",
       "      <td>False</td>\n",
       "      <td>True</td>\n",
       "      <td>NaN</td>\n",
       "      <td>507</td>\n",
       "      <td>308</td>\n",
       "      <td>0.000101</td>\n",
       "      <td>NaN</td>\n",
       "      <td>NaN</td>\n",
       "      <td>123661</td>\n",
       "      <td>None</td>\n",
       "      <td>0.665745</td>\n",
       "      <td>pvalb→pvalb</td>\n",
       "    </tr>\n",
       "    <tr>\n",
       "      <th>4</th>\n",
       "      <td>123679</td>\n",
       "      <td>5112</td>\n",
       "      <td>24801</td>\n",
       "      <td>24802</td>\n",
       "      <td>False</td>\n",
       "      <td>False</td>\n",
       "      <td>True</td>\n",
       "      <td>NaN</td>\n",
       "      <td>1599</td>\n",
       "      <td>1284</td>\n",
       "      <td>0.000062</td>\n",
       "      <td>NaN</td>\n",
       "      <td>NaN</td>\n",
       "      <td>123682</td>\n",
       "      <td>None</td>\n",
       "      <td>0.776390</td>\n",
       "      <td>pvalb→pvalb</td>\n",
       "    </tr>\n",
       "  </tbody>\n",
       "</table>\n",
       "</div>"
      ],
      "text/plain": [
       "   pair.id  pair.experiment_id  pair.pre_cell_id  pair.post_cell_id  \\\n",
       "0    52178                1539              9086               9087   \n",
       "1    52189                1539              9087               9086   \n",
       "2   113767                3981             21393              21392   \n",
       "3   123654                5109             24793              24795   \n",
       "4   123679                5112             24801              24802   \n",
       "\n",
       "  pair.has_synapse pair.has_polysynapse pair.has_electrical  \\\n",
       "0            False                False                True   \n",
       "1            False                False                True   \n",
       "2             True                False                True   \n",
       "3            False                False                True   \n",
       "4            False                False                True   \n",
       "\n",
       "   pair.crosstalk_artifact  pair.n_ex_test_spikes  pair.n_in_test_spikes  \\\n",
       "0                      NaN                    418                    300   \n",
       "1                      NaN                    417                    299   \n",
       "2                      NaN                    420                    348   \n",
       "3                      NaN                    507                    308   \n",
       "4                      NaN                   1599                   1284   \n",
       "\n",
       "   pair.distance  pair.lateral_distance  pair.vertical_distance  \\\n",
       "0       0.000092               0.000027                0.000078   \n",
       "1       0.000092               0.000027                0.000078   \n",
       "2       0.000084                    NaN                     NaN   \n",
       "3       0.000101                    NaN                     NaN   \n",
       "4       0.000062                    NaN                     NaN   \n",
       "\n",
       "   pair.reciprocal_id pair.meta  gap_junction.junctional_conductance  \\\n",
       "0               52189      None                             1.156760   \n",
       "1               52178      None                             1.494854   \n",
       "2              113765      None                             0.245593   \n",
       "3              123661      None                             0.665745   \n",
       "4              123682      None                             0.776390   \n",
       "\n",
       "    pair_class  \n",
       "0  pvalb→pvalb  \n",
       "1  pvalb→pvalb  \n",
       "2  pvalb→pvalb  \n",
       "3  pvalb→pvalb  \n",
       "4  pvalb→pvalb  "
      ]
     },
     "execution_count": 25,
     "metadata": {},
     "output_type": "execute_result"
    }
   ],
   "source": [
    "# query once for each postsynaptic type, building up a Pandas dataframe\n",
    "\n",
    "pairs = None\n",
    "for name, subclass in inhib_subclasses.items():\n",
    "    pair_query = db.pair_query(\n",
    "        experiment_type='mouse',\n",
    "        pre_class=subclass,\n",
    "        post_class=subclass,\n",
    "        electrical=True,\n",
    "    )\n",
    "    # here we join the GapJunction table so that we can append the junctional_conductance column\n",
    "    pair_query = pair_query.outerjoin(db.GapJunction, db.GapJunction.pair_id==db.Pair.id)\n",
    "    pair_query = pair_query.add_column(db.GapJunction.junctional_conductance)\n",
    "\n",
    "    df = pair_query.dataframe()\n",
    "    df['pair_class'] = '%s→%s' % (subclass, subclass)\n",
    "    if pairs is None:\n",
    "        pairs = df\n",
    "    else:\n",
    "        pairs = pairs.append(df)\n",
    "pairs['gap_junction.junctional_conductance'] *= 1e9 # we typcially think of conductance on the scale of nano-Siemens (nS)\n",
    "pairs.head()"
   ]
  },
  {
   "cell_type": "markdown",
   "id": "7cf39cd8",
   "metadata": {},
   "source": [
    "From here we can plot the junctional conductance using the seaborn library"
   ]
  },
  {
   "cell_type": "code",
   "execution_count": 28,
   "id": "5e9e9a1a",
   "metadata": {},
   "outputs": [
    {
     "name": "stderr",
     "output_type": "stream",
     "text": [
      "c:\\users\\stephanies\\appdata\\local\\continuum\\miniconda3\\envs\\py3\\lib\\site-packages\\seaborn\\categorical.py:1296: UserWarning: 8.8% of the points cannot be placed; you may want to decrease the size of the markers or use stripplot.\n",
      "  warnings.warn(msg, UserWarning)\n",
      "c:\\users\\stephanies\\appdata\\local\\continuum\\miniconda3\\envs\\py3\\lib\\site-packages\\seaborn\\categorical.py:1296: UserWarning: 6.0% of the points cannot be placed; you may want to decrease the size of the markers or use stripplot.\n",
      "  warnings.warn(msg, UserWarning)\n"
     ]
    },
    {
     "data": {
      "text/plain": [
       "<matplotlib.axes._subplots.AxesSubplot at 0x2324db1afc8>"
      ]
     },
     "execution_count": 28,
     "metadata": {},
     "output_type": "execute_result"
    },
    {
     "data": {
      "image/png": "[encoded data removed]",
      "text/plain": [
       "<Figure size 432x288 with 1 Axes>"
      ]
     },
     "metadata": {
      "needs_background": "light"
     },
     "output_type": "display_data"
    }
   ],
   "source": [
    "import seaborn as sns\n",
    "\n",
    "sns.boxplot(data=pairs, x='pair_class', y='gap_junction.junctional_conductance', fliersize=0)\n",
    "sns.swarmplot(data=pairs, x='pair_class', y='gap_junction.junctional_conductance', color='k', edgecolor='k', alpha=0.7)"
   ]
  },
  {
   "cell_type": "markdown",
   "id": "a69f68f3",
   "metadata": {},
   "source": [
    "Here we can see that electrical connections between Pvalb cells can be stronger than those between Sst or Vip cells"
   ]
  },
  {
   "cell_type": "code",
   "execution_count": null,
   "id": "1ee49d41",
   "metadata": {},
   "outputs": [],
   "source": []
  }
 ],
 "metadata": {
  "kernelspec": {
   "display_name": "Python 3",
   "language": "python",
   "name": "python3"
  },
  "language_info": {
   "codemirror_mode": {
    "name": "ipython",
    "version": 3
   },
   "file_extension": ".py",
   "mimetype": "text/x-python",
   "name": "python",
   "nbconvert_exporter": "python",
   "pygments_lexer": "ipython3",
   "version": "3.7.4"
  }
 },
 "nbformat": 4,
 "nbformat_minor": 5
}
