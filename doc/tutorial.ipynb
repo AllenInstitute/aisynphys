{
 "cells": [
  {
   "cell_type": "markdown",
   "metadata": {},
   "source": [
    "1. General intro to synphys / MP\n",
    "2. Intro to dataset and sqlalchemy\n",
    " - database structure\n",
    " - project names\n",
    " - querying cell pairs\n",
    "3. Connectivity\n",
    " - proportions / binomial CI\n",
    " - lateral distance profiles, fitting\n",
    " - cell_class_nonsynaptic\n",
    " - experimental bias corrections\n",
    "4. Synapse features\n",
    " - Strength\n",
    " - Kinetics\n",
    " - STP\n",
    "5. Stochastic release model\n",
    " - Getting max likelihood model parameters\n",
    " - Full parameter space results"
   ]
  },
  {
   "cell_type": "markdown",
   "metadata": {},
   "source": [
    "Run this cell to show the TOC at left:"
   ]
  },
  {
   "cell_type": "code",
   "execution_count": 4,
   "metadata": {},
   "outputs": [
    {
     "data": {
      "application/javascript": [
       "$('<div id=\"toc\"><b>Contents</b><br><ol><li><a href=\"#introduction\">Introduction</a></div>').css({position: 'fixed', top: '120px', left: 0, border: '1px solid #000', padding: '5px'}).appendTo(document.body);\n"
      ],
      "text/plain": [
       "<IPython.core.display.Javascript object>"
      ]
     },
     "metadata": {},
     "output_type": "display_data"
    }
   ],
   "source": [
    "%%javascript\n",
    "$('<div id=\"toc\"><b>Contents</b><br><ol><li><a href=\"#introduction\">Introduction</a></div>').css({position: 'fixed', top: '120px', left: 0, border: '1px solid #000', padding: '5px'}).appendTo(document.body);"
   ]
  },
  {
   "cell_type": "markdown",
   "metadata": {},
   "source": [
    "Tutorial: Synaptic connectivity and dynamics in mouse and human cortex\n",
    "============================================================\n",
    "\n",
    "This tutorial will show you how to access the [Synaptic Physiology Dataset](https://portal.brain-map.org/explore/connectivity/synaptic-physiology) from the Allen Institute for Brain Science. This dataset describes properties of synapses that were recorded using patch-clamp electrophysiology in mouse and human neocortical tissue. The main purpose is to understand the relationship between _cell types_ and _synapse properties_ in local microcircuits:\n",
    "\n",
    "- What is the probability of finding a synaptic connection between two cells, and how is that affected by cell type? \n",
    "- How is connectivity affected by the distance between two cells, or by other experimental parameters?\n",
    "- How is cell type related to other synapse properties such as strength, latency, kinetics (PSP shape), and dynamics (stochasticity and short-term plasticity)?\n",
    "- How can we best model synaptic connectivity and dynamics, and what can these models tell us about the function of the microcircuit?"
   ]
  },
  {
   "cell_type": "markdown",
   "metadata": {},
   "source": [
    "Multi-patch electrophysiology\n",
    "------------------------------------------\n",
    "\n",
    "The experiments in the Synaptic Physiology Dataset are performed using patch clamp electrophysiology in brain slices with up to 8 electrodes simultaneously. The resulting data are complex; understanding the limitations of the experimental methods is necessary in order to avoid analysis mistakes. For complete details on our methods, see our  [website](https://portal.brain-map.org/explore/connectivity/synaptic-physiology) and recent [bioRxiv publication (currently in review)](https://www.biorxiv.org/content/10.1101/2021.03.31.437553v2). When in doubt, you can ask questions on our [forum](https://community.brain-map.org/) with the tag `synaptic-physiology`.\n",
    "\n",
    "In patch-clamp electrophysiology, we use glass electrodes to gain direct electrical access to the _interior_ of a neuron. This allows us to precisely control the spiking of individual cells and to record synaptic currents that are too small to be observed by any other method (for now). \n",
    "\n",
    "![multipatch](source/images/multipatch.svg)\n",
    "\n",
    "In a single experiment, we patch up to 8 neurons simultaneously. Each neuron is stimulated to fire patterns of action potentials while we record the membrane potential of the other neurons. If two neurons are connected by a synapse, we should be able to see synaptic currents within a few ms of each presynaptic spike (although many synapses require averaging to reduce noise before the response is visible)."
   ]
  },
  {
   "cell_type": "markdown",
   "metadata": {},
   "source": [
    "<a name=\"introduction\"></a>\n",
    "\n",
    "Indroduction to dataset and database\n",
    "---------------------------------------\n",
    "\n",
    "The Synaptic Physiology Dataset contains the results of thousands of multipatch experiments. For each experiment, we store three major types of information:\n",
    "\n",
    "- **Experiment metadata:** species, brain region, and experimental conditions\n",
    "- **Cell properties:** location (including cortical layer), morphology, transgenic reporters, and intrinsic electrophysiological features\n",
    "- **Synapse properties:** strength, latency, kinetics (PSP shape), and dynamics (variance and short-term plasticity)\n",
    "\n",
    "These data are stored in a relational database (an sqlite file) and spread out over many tables. It is possible to access these tables using SQL or sqlalchemy; however, for this tutorial we will use helper methods that generate the most common queries for us and return Pandas dataframes."
   ]
  },
  {
   "cell_type": "code",
   "execution_count": 6,
   "metadata": {},
   "outputs": [
    {
     "ename": "TypeError",
     "evalue": "dataframe() got an unexpected keyword argument 'expand_tables'",
     "output_type": "error",
     "traceback": [
      "\u001b[0;31m---------------------------------------------------------------------------\u001b[0m",
      "\u001b[0;31mTypeError\u001b[0m                                 Traceback (most recent call last)",
      "\u001b[0;32m<ipython-input-6-5a1952a764df>\u001b[0m in \u001b[0;36m<module>\u001b[0;34m\u001b[0m\n\u001b[1;32m      1\u001b[0m \u001b[0;32mfrom\u001b[0m \u001b[0maisynphys\u001b[0m\u001b[0;34m.\u001b[0m\u001b[0mdatabase\u001b[0m \u001b[0;32mimport\u001b[0m \u001b[0mdefault_db\u001b[0m \u001b[0;32mas\u001b[0m \u001b[0mdb\u001b[0m\u001b[0;34m\u001b[0m\u001b[0;34m\u001b[0m\u001b[0m\n\u001b[1;32m      2\u001b[0m \u001b[0;34m\u001b[0m\u001b[0m\n\u001b[0;32m----> 3\u001b[0;31m \u001b[0mdf\u001b[0m \u001b[0;34m=\u001b[0m \u001b[0mdb\u001b[0m\u001b[0;34m.\u001b[0m\u001b[0mquery\u001b[0m\u001b[0;34m(\u001b[0m\u001b[0mdb\u001b[0m\u001b[0;34m.\u001b[0m\u001b[0mExperiment\u001b[0m\u001b[0;34m,\u001b[0m \u001b[0mdb\u001b[0m\u001b[0;34m.\u001b[0m\u001b[0mSlice\u001b[0m\u001b[0;34m)\u001b[0m\u001b[0;34m.\u001b[0m\u001b[0mjoin\u001b[0m\u001b[0;34m(\u001b[0m\u001b[0mdb\u001b[0m\u001b[0;34m.\u001b[0m\u001b[0mSlice\u001b[0m\u001b[0;34m)\u001b[0m\u001b[0;34m.\u001b[0m\u001b[0mdataframe\u001b[0m\u001b[0;34m(\u001b[0m\u001b[0mexpand_tables\u001b[0m\u001b[0;34m=\u001b[0m\u001b[0;32mTrue\u001b[0m\u001b[0;34m)\u001b[0m\u001b[0;34m\u001b[0m\u001b[0;34m\u001b[0m\u001b[0m\n\u001b[0m\u001b[1;32m      4\u001b[0m \u001b[0mdf\u001b[0m\u001b[0;34m.\u001b[0m\u001b[0mhead\u001b[0m\u001b[0;34m(\u001b[0m\u001b[0;34m)\u001b[0m\u001b[0;34m\u001b[0m\u001b[0;34m\u001b[0m\u001b[0m\n",
      "\u001b[0;31mTypeError\u001b[0m: dataframe() got an unexpected keyword argument 'expand_tables'"
     ]
    }
   ],
   "source": [
    "from aisynphys.database import default_db as db\n",
    "\n",
    "df = db.query(db.Experiment, db.Slice).join(db.Slice).dataframe(expand_tables=True)\n",
    "df.head()"
   ]
  },
  {
   "cell_type": "markdown",
   "metadata": {},
   "source": [
    "<a name=\"connectivity\"></a>\n",
    "\n",
    "Measuring connectivity\n",
    "---------------------------------\n",
    "\n"
   ]
  },
  {
   "cell_type": "markdown",
   "metadata": {},
   "source": [
    "<a name=\"features\"></a>\n",
    "\n",
    "Synapse features\n",
    "-------------------------\n",
    "\n"
   ]
  },
  {
   "cell_type": "markdown",
   "metadata": {},
   "source": [
    "<a name=\"model\"></a>\n",
    "\n",
    "Stochastic release model\n",
    "---------------------------------------\n",
    "\n"
   ]
  },
  {
   "cell_type": "code",
   "execution_count": null,
   "metadata": {},
   "outputs": [],
   "source": []
  }
 ],
 "metadata": {
  "kernelspec": {
   "display_name": "Python 3",
   "language": "python",
   "name": "python3"
  },
  "language_info": {
   "codemirror_mode": {
    "name": "ipython",
    "version": 3
   },
   "file_extension": ".py",
   "mimetype": "text/x-python",
   "name": "python",
   "nbconvert_exporter": "python",
   "pygments_lexer": "ipython3",
   "version": "3.8.5"
  }
 },
 "nbformat": 4,
 "nbformat_minor": 4
}
